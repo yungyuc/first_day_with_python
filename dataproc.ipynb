{
 "cells": [
  {
   "cell_type": "markdown",
   "metadata": {},
   "source": [
    "Numerical analysis (or data analysis) is what Python is especially good at.  And it's possibly why you want to learn Python?  Now we will use a simple project to guide you.  Let's use Python to play music."
   ]
  },
  {
   "cell_type": "code",
   "execution_count": null,
   "metadata": {},
   "outputs": [],
   "source": [
    "# This cell sets up helpers for demonstration in the course.\n",
    "# Before the end of this session, you shouldn't take this as examples.\n",
    "\n",
    "%matplotlib inline\n",
    "\n",
    "# Import necessary modules.\n",
    "\n",
    "import os\n",
    "\n",
    "import numpy as np\n",
    "import matplotlib.pyplot as plt\n",
    "from IPython.display import display, Audio, HTML\n",
    "\n",
    "# Define constants.\n",
    "\n",
    "sampling_freq = 44100 # 44.1 kHz.\n",
    "\n",
    "# Define demonstrative helper functions.\n",
    "\n",
    "def time_data(duration, rate=sampling_freq):\n",
    "    return np.linspace(0, duration, num=int(rate*duration))\n",
    "\n",
    "def sine_data(freq, time, damp=0):\n",
    "    data = 2**13 * np.sin(2*np.pi * freq * time)\n",
    "    if damp: # Remove gitters.\n",
    "        todamp = int(damp * sampling_freq)\n",
    "        darr = np.arange(todamp)/(todamp-1)\n",
    "        darr = np.sin(darr * np.pi / 2)\n",
    "        data[:todamp] *= darr\n",
    "        data[-todamp:] *= 1-darr\n",
    "    return data\n",
    "\n",
    "def note_freq(note):\n",
    "    \"\"\"Parse note symbol \"a4\", \"c4\", etc. and calculate frequency (in Hz).\"\"\"\n",
    "    if ' ' == note:\n",
    "        return 0.0\n",
    "    f0 = 440.0 # a4\n",
    "    note = note.lower()\n",
    "    diff = {'a': 0, 'b': 2, 'c': -9, 'd': -7, 'e': -5, 'f': -4, 'g': -2}[note[0]]\n",
    "    diff += {'#': 1, 'b': -1}.get(note[1], 0)\n",
    "    diff += 12 * (int(note[-1])-4)\n",
    "    return f0 * 2 ** (float(diff)/12)\n",
    "\n",
    "def play_notes(duration, *notes):\n",
    "    time = time_data(duration, sampling_freq)\n",
    "    alist = [sine_data(note_freq(n), time) for n in notes]\n",
    "    data = np.vstack(alist).sum(axis=0)\n",
    "    display(Audio(data.astype('int16'), rate=sampling_freq))\n",
    "    return time, data\n",
    "\n",
    "def play_numbered(numbered_notation, bpm=90, base_octave=4):\n",
    "    # Middle C is designated C4\n",
    "    note_map = {'0':' ', '1':'c', '2':'d', '3':'e', '4':'f', '5':'g', '6':'a', '7':'b'}\n",
    "    opt_symbols = (\n",
    "        # octaves\n",
    "        '^', 'v',\n",
    "        # accidentals\n",
    "        '#', 'b',\n",
    "        # note length\n",
    "        '-', '.', '_',\n",
    "        # misc\n",
    "        '|', ' ', ','\n",
    "    )\n",
    "    beat_sec = 60.0 / bpm\n",
    "    signals = []\n",
    "    # init numbered\n",
    "    default_num = lambda: (base_octave, '', 1.0)\n",
    "    octave, accidental, nbeat = default_num()\n",
    "    for it, num in enumerate(numbered_notation):\n",
    "        # raise/lower octave\n",
    "        if num == '^':\n",
    "            octave += 1\n",
    "        elif num == 'v':\n",
    "            octave -= 1\n",
    "        \n",
    "        # accidentals\n",
    "        if num in '#b':\n",
    "            accidental = num\n",
    "        \n",
    "        if num in opt_symbols:\n",
    "            continue\n",
    "            \n",
    "        for ahead in numbered_notation[it+1:]:\n",
    "            if '-' == ahead:\n",
    "                nbeat += 1\n",
    "            elif '.' == ahead:\n",
    "                nbeat += 0.5\n",
    "            elif '_' == ahead:\n",
    "                nbeat /= 2\n",
    "            else:\n",
    "                break\n",
    "        \n",
    "        time = time_data(beat_sec * nbeat, sampling_freq)\n",
    "        note = note_map[num]\n",
    "        if note != ' ':\n",
    "            note = note + accidental + str(octave)\n",
    "        freq = note_freq(note)\n",
    "        signal = sine_data(freq, time, damp=beat_sec*0.1)\n",
    "        signals.append(signal)\n",
    "        \n",
    "        # reset to default\n",
    "        octave, accidental, nbeat = default_num()\n",
    "        \n",
    "    data = np.hstack(signals)\n",
    "    display(Audio(data.astype('int16'), rate=sampling_freq))"
   ]
  },
  {
   "cell_type": "markdown",
   "metadata": {},
   "source": [
    "Run the following cells.  They'll show you what the above code do."
   ]
  },
  {
   "cell_type": "code",
   "execution_count": null,
   "metadata": {},
   "outputs": [],
   "source": [
    "print(\"Play the C chord:\")\n",
    "time_point, data = play_notes(3, 'c4', 'e4', 'g4')\n",
    "\n",
    "print(\"Plot the first 1000 time points (around %.0f ms):\" % (1.e6/sampling_freq))\n",
    "_ = plt.plot(time_point[0:1000], data[0:1000])"
   ]
  },
  {
   "cell_type": "code",
   "execution_count": null,
   "metadata": {},
   "outputs": [],
   "source": [
    "print(\"Twinkle Twinkle Little Star:\")\n",
    "play_numbered('1155|665-|4433|221-|5544|332-|5544|332-|1155|665-|4433|221-')\n",
    "\n",
    "print(\"Hänschen Klein:\")\n",
    "play_numbered('533-|422-|1234|555-|533-|422-|1355|3--0'\n",
    "              '2222|234-|3333|345-|533-|422-|1355|1--0')\n",
    "\n",
    "print(\"Hänschen Klein at 120 BPM:\")\n",
    "play_numbered('533-|422-|1234|555-|533-|422-|1355|3--0'\n",
    "              '2222|234-|3333|345-|533-|422-|1355|1--0', bpm=120)\n",
    "\n",
    "print(\"Marshmello - TELL ME as 142 BPM:\")\n",
    "play_numbered('#5#1-#5|4-#1_#2_4|#5#1-^#1|^1-#5_#6_4' * 2, bpm=142)"
   ]
  },
  {
   "cell_type": "markdown",
   "metadata": {},
   "source": [
    "Now, step by step, we'll show you how we made Python sing."
   ]
  },
  {
   "cell_type": "markdown",
   "metadata": {},
   "source": [
    "# Variables\n",
    "\n",
    "Variables are the things that Python uses to keep track of information.  Let's see an example:"
   ]
  },
  {
   "cell_type": "code",
   "execution_count": null,
   "metadata": {},
   "outputs": [],
   "source": [
    "# First, we create some data by calling the helper function \"time_data()\".\n",
    "# At the same time, we name it the \"time\", which is the variable.\n",
    "time = time_data(10)\n",
    "# By using the \"time\" varaible, we can send the data to the tool \"plt.plot()\",\n",
    "# and plot the data.  As they are shown, the data are a series of increasing\n",
    "# values of the same difference.\n",
    "plt.plot(time)"
   ]
  },
  {
   "cell_type": "markdown",
   "metadata": {},
   "source": [
    "The example demonstrates a key feature of a variable: It is a handle to access the associated data.  The action (line 3) use the variable \"`time`\" to name the data returned by `time_data()`, so that we can tell Python to send the data to `plt.plot()`.  Variables give us the ability to name things in Python.  This is a very basic and critical thing in programming.\n",
    "\n",
    "As an exercise, try to do a similar thing but use another variable.  You should still see a straight line, but the maximum value becomes 12 instead of 10."
   ]
  },
  {
   "cell_type": "code",
   "execution_count": null,
   "metadata": {},
   "outputs": [],
   "source": [
    "other_time = time_data(12)\n",
    "plt.plot(other_time)"
   ]
  },
  {
   "cell_type": "markdown",
   "metadata": {},
   "source": [
    "In Python, a variable can be any type of data.  You don't need to specify or know the kind of data before using the variable.  But you do need to have the variable set before use it."
   ]
  },
  {
   "cell_type": "code",
   "execution_count": null,
   "metadata": {},
   "outputs": [],
   "source": [
    "a_number = 10\n",
    "print(a_number)\n",
    "a_word = \"advancement\"\n",
    "print(a_word)\n",
    "\n",
    "print(a_condition) # Won't work since a_condition isn't yet set.\n",
    "a_condition"
   ]
  },
  {
   "cell_type": "markdown",
   "metadata": {},
   "source": [
    "## Numbers and Strings\n",
    "\n",
    "Numbers and strings are the most straight-forward variables.  By using the high-school algebra we immedinately make sense of the following examples."
   ]
  },
  {
   "cell_type": "code",
   "execution_count": null,
   "metadata": {},
   "outputs": [],
   "source": [
    "interest_rate = 0.02 # 2% compound interest rate (annualized).\n",
    "principal = 1_000_000 # The money you save monthly.\n",
    "interest = principal*(1+interest_rate/12)**12 - principal # The interest rolls in monthly.\n",
    "\n",
    "print(\"Interest is {:,.0f} with {:,.0f} at rate {:.1%}.\".format(interest, principal, interest_rate))"
   ]
  },
  {
   "cell_type": "markdown",
   "metadata": {},
   "source": [
    "Say the annual interest rate is 2%.  Although Python cannot allow a percentage number, we know it is simply the real number `0.02`, and write it as\n",
    "\n",
    "```python\n",
    "interest_rate = 0.02 # 2% compound interest rate (annualized).\n",
    "```\n",
    "\n",
    "In Python, everythin that follows the \"`#`\" (pronounced \"sharp\" or \"dial\") symbol is taken as comments (code remarks).  They are considered not part of the code, and allow programmers to use natural language to explain the code.  You will expect a lot of them in this notebook."
   ]
  },
  {
   "cell_type": "markdown",
   "metadata": {},
   "source": [
    "For numbers, modern Python has a neat feature, is to allow you to insert eye candy for better grouping.  In the second line the underscore (`_`) separates the number 1 million by thousand:\n",
    "\n",
    "```python\n",
    "principal = 1_000_000\n",
    "```\n",
    "\n",
    "Compare to the representation without the underscores:\n",
    "\n",
    "```python\n",
    "principal = 1000000\n",
    "```\n",
    "\n",
    "The former helps you avoid error."
   ]
  },
  {
   "cell_type": "markdown",
   "metadata": {},
   "source": [
    "The named variables allow us to write the formula in the third line:\n",
    "\n",
    "```python\n",
    "interest = saving*(1+interest_rate/12)**12 - saving # The interest rolls in monthly.\n",
    "```\n",
    "\n",
    "The bank uses a compound interest rate, and we want to know how much money we eventually get in the whole year.  The interest is evaluated every month, so the rate needs to be divided by 12.  It's the compound rate, so we multiply the principal by `(1+interest_rate/12)` 12 times."
   ]
  },
  {
   "cell_type": "markdown",
   "metadata": {},
   "source": [
    "At the end we show the results using the built-in `print()` function:\n",
    "\n",
    "```python\n",
    "print(\"Interest is {:,.0f} with {:,.0f} at rate {:.1%}.\".format(interest, principal, interest_rate))\n",
    "```\n",
    "\n",
    "The first part passed into `print()` is the template string (also called formatting string):\n",
    "\n",
    "```python\n",
    "\"Interest is {:,.0f} with {:,.0f} at rate {:.1%}.\"\n",
    "```\n",
    "\n",
    "The second part uses a method attached to the template string to fill in the data:\n",
    "\n",
    "```python\n",
    ".format(interest, principal, interest_rate))\n",
    "```\n",
    "\n",
    "In the end, Jupyter shows the formatted string:\n",
    "\n",
    "```\n",
    "Interest is 20,184 with 1,000,000 at rate 2.0%.\n",
    "```"
   ]
  },
  {
   "cell_type": "markdown",
   "metadata": {},
   "source": [
    "The substring enclosed by the pair of curled braces (`{}`) in the template string specifies how the associated variable is formatted.  We use two of them in the above example:\n",
    "\n",
    "* `{:,.0f}` says to format the real number using fixed-point notation, use `,` to group by thousand, and show no (0) digit after decimal points.\n",
    "* `{:.1%}` says to format the real number as percentage, and show 1 digit after decimal point.\n",
    "\n",
    "But if you don't bother the detailed formatting, it's fine to simply write `{}` as placeholders.  The result is only slightly less clear but you still get it."
   ]
  },
  {
   "cell_type": "code",
   "execution_count": null,
   "metadata": {},
   "outputs": [],
   "source": [
    "print(\"Interest is {} with {} at rate {}.\".format(interest, principal, interest_rate))"
   ]
  },
  {
   "cell_type": "markdown",
   "metadata": {},
   "source": [
    "## Values and Containers\n",
    "\n",
    "In Python, variables can be broadly categorized into two kinds: a mere value and a container of other values or containers."
   ]
  },
  {
   "cell_type": "markdown",
   "metadata": {},
   "source": [
    "# Tables and Arrays"
   ]
  },
  {
   "cell_type": "markdown",
   "metadata": {},
   "source": [
    "# Present Data"
   ]
  }
 ],
 "metadata": {
  "kernelspec": {
   "display_name": "Python 3",
   "language": "python",
   "name": "python3"
  },
  "language_info": {
   "codemirror_mode": {
    "name": "ipython",
    "version": 3
   },
   "file_extension": ".py",
   "mimetype": "text/x-python",
   "name": "python",
   "nbconvert_exporter": "python",
   "pygments_lexer": "ipython3",
   "version": "3.7.0"
  }
 },
 "nbformat": 4,
 "nbformat_minor": 2
}
