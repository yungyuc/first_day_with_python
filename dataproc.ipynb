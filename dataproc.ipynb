{
 "cells": [
  {
   "cell_type": "markdown",
   "metadata": {},
   "source": [
    "Numerical analysis (or data analysis) is what Python is especially good at, and probably why you want to learn Python.  Now we will use a simple project to guide you.  Let's use Python to play music."
   ]
  },
  {
   "cell_type": "code",
   "execution_count": null,
   "metadata": {},
   "outputs": [],
   "source": [
    "# This cell sets up the notebook.\n",
    "\n",
    "%matplotlib inline\n",
    "\n",
    "# Import necessary modules.\n",
    "\n",
    "import traceback\n",
    "import os\n",
    "\n",
    "import numpy as np\n",
    "import matplotlib.pyplot as plt\n",
    "from IPython.core.magic import register_cell_magic\n",
    "from IPython.display import display, Audio"
   ]
  },
  {
   "cell_type": "code",
   "execution_count": null,
   "metadata": {},
   "outputs": [],
   "source": [
    "# This cell sets up helpers for demonstration in the course.\n",
    "# Before the end of this session, you shouldn't take this as examples.\n",
    "\n",
    "# Define constants.\n",
    "\n",
    "sampling_freq = 44100 # 44.1 kHz.\n",
    "\n",
    "# Define helper functions.\n",
    "\n",
    "def time_data(duration, rate=sampling_freq):\n",
    "    return np.linspace(0, duration, num=int(rate*duration))\n",
    "\n",
    "def sine_data(freq, time, damp=0):\n",
    "    data = 2**13 * np.sin(2*np.pi * freq * time)\n",
    "    if damp: # Remove gitters.\n",
    "        todamp = int(damp * sampling_freq)\n",
    "        darr = np.arange(todamp)/(todamp-1)\n",
    "        darr = np.sin(darr * np.pi / 2)\n",
    "        data[:todamp] *= darr\n",
    "        data[-todamp:] *= 1-darr\n",
    "    return data\n",
    "\n",
    "def note_freq(note):\n",
    "    \"\"\"Parse note symbol \"a4\", \"c4\", etc. and calculate frequency (in Hz).\"\"\"\n",
    "    if ' ' == note:\n",
    "        return 0.0\n",
    "    f0 = 440.0 # A4\n",
    "    note = note.lower()\n",
    "    diff = {'a': 0, 'b': 2, 'c': -9, 'd': -7, 'e': -5, 'f': -4, 'g': -2}[note[0]]\n",
    "    diff += {'#': 1, 'b': -1}.get(note[1], 0)\n",
    "    diff += 12 * (int(note[-1])-4)\n",
    "    return f0 * 2 ** (float(diff)/12)\n",
    "\n",
    "def play_notes(duration, *notes):\n",
    "    time = time_data(duration, sampling_freq)\n",
    "    alist = [sine_data(note_freq(n), time) for n in notes]\n",
    "    data = np.vstack(alist).sum(axis=0)\n",
    "    display(Audio(data.astype('int16'), rate=sampling_freq))\n",
    "    return time, data"
   ]
  },
  {
   "cell_type": "markdown",
   "metadata": {},
   "source": [
    "The above chunk of code allows you to play chords.  For example, the C chord:"
   ]
  },
  {
   "cell_type": "code",
   "execution_count": null,
   "metadata": {},
   "outputs": [],
   "source": [
    "print(\"Play the C chord for 3 seconds:\")\n",
    "time, data = play_notes(3, 'c4', 'e4', 'g4')\n",
    "\n",
    "print(\"Plot the first 1000 time points (around %.0f ms):\" % (1.e6/sampling_freq))\n",
    "plt.plot(time[0:1000], data[0:1000])\n",
    "plt.xlim(time[0], time[999])\n",
    "plt.xlabel('time (second)')\n",
    "plt.ylabel('amplitude')"
   ]
  },
  {
   "cell_type": "markdown",
   "metadata": {},
   "source": [
    "We will use this as an example to introduce you how to program in Python.  The above code is organized in a compact way to work like a library.  In what follows, to make a clear demonstration, we will expand it to give you a plain sight."
   ]
  },
  {
   "cell_type": "markdown",
   "metadata": {},
   "source": [
    "# Variables\n",
    "\n",
    "Variables are the things that Python uses to keep track of information.  Let's see an example:"
   ]
  },
  {
   "cell_type": "code",
   "execution_count": null,
   "metadata": {},
   "outputs": [],
   "source": [
    "# First, we create some data by calling the helper function \"time_data()\".\n",
    "# At the same time, we name it the \"time\", which is the variable.\n",
    "time = time_data(10)\n",
    "# By using the \"time\" varaible, we can send the data to the tool \"plt.plot()\",\n",
    "# and plot the data.  As they are shown, the data are a series of increasing\n",
    "# values of the same difference.\n",
    "plt.plot(time)"
   ]
  },
  {
   "cell_type": "markdown",
   "metadata": {},
   "source": [
    "The example demonstrates a key feature of a variable: It is a handle to access the associated data.  The action (line 3) use the variable \"`time`\" to name the data returned by `time_data()`, so that we can tell Python to send the data to `plt.plot()`.  Variables give us the ability to name things in Python.  This is a very basic and critical thing in programming.\n",
    "\n",
    "As an exercise, try to do a similar thing but use another variable.  You should still see a straight line, but the maximum value becomes 12 instead of 10.\n",
    "\n",
    "**Note**: In Python, everything that follows the \"`#`\" (pronounced \"sharp\" or \"dial\") symbol is taken as comments (code remarks).  They are considered not part of the code, and allow programmers to use natural language to explain the code.  You will expect a lot of them in this notebook."
   ]
  },
  {
   "cell_type": "code",
   "execution_count": null,
   "metadata": {},
   "outputs": [],
   "source": [
    "other_time = time_data(12)\n",
    "plt.plot(other_time)"
   ]
  },
  {
   "cell_type": "markdown",
   "metadata": {},
   "source": [
    "In Python, a variable can be any type of data.  You don't need to specify or know the kind of data before using the variable.  But you do need to have the variable set before use it."
   ]
  },
  {
   "cell_type": "code",
   "execution_count": null,
   "metadata": {},
   "outputs": [],
   "source": [
    "a_number = 10\n",
    "print(a_number)\n",
    "a_word = \"advancement\"\n",
    "print(a_word)\n",
    "\n",
    "print(a_condition) # Won't work since a_condition isn't yet set."
   ]
  },
  {
   "cell_type": "markdown",
   "metadata": {},
   "source": [
    "# Numbers\n",
    "\n",
    "Let's talk about numbers by a simple formula that calculates saving interests."
   ]
  },
  {
   "cell_type": "markdown",
   "metadata": {},
   "source": [
    "Say the annual interest rate is 2%.  Although Python cannot allow a percentage number, we know it is simply the real number `0.02`, and write it as\n",
    "\n",
    "```python\n",
    "interest_rate = 0.02 # 2% compound interest rate (annualized).\n",
    "```"
   ]
  },
  {
   "cell_type": "code",
   "execution_count": null,
   "metadata": {},
   "outputs": [],
   "source": [
    "interest_rate = 0.02 # 2% compound interest rate (annualized).\n",
    "print(interest_rate)"
   ]
  },
  {
   "cell_type": "markdown",
   "metadata": {},
   "source": [
    "For numbers, modern Python has a neat feature, is to allow you to insert eye candy for better grouping.  The underscore (`_`) can be used to separate the number 1 million by thousand:\n",
    "\n",
    "```python\n",
    "principal = 1_000_000\n",
    "```\n",
    "\n",
    "Compare to the representation without the underscores:\n",
    "\n",
    "```python\n",
    "principal = 1000000\n",
    "```\n",
    "\n",
    "The former helps you avoid error."
   ]
  },
  {
   "cell_type": "code",
   "execution_count": null,
   "metadata": {},
   "outputs": [],
   "source": [
    "principal = 1_000_000 # The money you save monthly.\n",
    "print(principal)"
   ]
  },
  {
   "cell_type": "code",
   "execution_count": null,
   "metadata": {},
   "outputs": [],
   "source": [
    "print(type(1)) # This is an integer"
   ]
  },
  {
   "cell_type": "code",
   "execution_count": null,
   "metadata": {},
   "outputs": [],
   "source": [
    "print(type(1.0)) # This is a real number (floating-point)"
   ]
  },
  {
   "cell_type": "markdown",
   "metadata": {},
   "source": [
    "## True Division\n",
    "\n",
    "Python division (`/`) operator is kind of special and the convenience may surprise programmers from other languages.  The division operator is called the \"true division\", because the result is always a real number (floating-point)."
   ]
  },
  {
   "cell_type": "code",
   "execution_count": null,
   "metadata": {},
   "outputs": [],
   "source": [
    "print(1/1)\n",
    "print(type(1/1)) # An integer divided by an integer gives a float!"
   ]
  },
  {
   "cell_type": "markdown",
   "metadata": {},
   "source": [
    "The good old integer division uses the \"floor division\" operator, `//`.  As the name suggests, it always returns the floor:"
   ]
  },
  {
   "cell_type": "code",
   "execution_count": null,
   "metadata": {},
   "outputs": [],
   "source": [
    "# No tie breaking for integer.\n",
    "print(2//3)"
   ]
  },
  {
   "cell_type": "code",
   "execution_count": null,
   "metadata": {},
   "outputs": [],
   "source": [
    "# No tie breaking for real number, either.\n",
    "print(2.0//3.0)"
   ]
  },
  {
   "cell_type": "markdown",
   "metadata": {},
   "source": [
    "## Arithmatic\n",
    "\n",
    "The named variables help us to express calculation in a clear way:\n",
    "\n",
    "```python\n",
    "interest = principal*(1+interest_rate/12)**12 - principal # The interest rolls in monthly.\n",
    "```\n",
    "\n",
    "The bank uses a compound interest rate, and we want to know how much money we eventually get in the whole year.  The interest is evaluated every month, so the rate needs to be divided by 12.  It's the compound rate, so we multiply the principal by `(1+interest_rate/12)` 12 times.\n",
    "\n",
    "The formula uses the most common opeators in Python: `+` (addition), `-` (subtraction), `*` (multiplication), `/` (division).  It also uses the power operator `**`.  The subtraction is worth a note: it always returns a real number and doesn't automatically round to integer:"
   ]
  },
  {
   "cell_type": "code",
   "execution_count": null,
   "metadata": {},
   "outputs": [],
   "source": [
    "interest = principal*(1+interest_rate/12)**12 - principal # The interest rolls in monthly.\n",
    "print(interest)"
   ]
  },
  {
   "cell_type": "markdown",
   "metadata": {},
   "source": [
    "# Format Numbers in Strings\n",
    "\n",
    "Numbers and strings are the most straight-forward variables.  By using the high-school algebra we immedinately make sense of the following examples."
   ]
  },
  {
   "cell_type": "code",
   "execution_count": null,
   "metadata": {},
   "outputs": [],
   "source": [
    "formatted = \"Interest is {:,.0f} with {:,.0f} at rate {:.1%}.\".format(interest, principal, interest_rate)\n",
    "print(formatted)"
   ]
  },
  {
   "cell_type": "markdown",
   "metadata": {},
   "source": [
    "Let's see what happens in the above statement.  The first part is the template string (also called formatting string):\n",
    "\n",
    "```python\n",
    "\"Interest is {:,.0f} with {:,.0f} at rate {:.1%}.\"\n",
    "```\n",
    "\n",
    "The second part uses a method attached to the template string to fill in the data:\n",
    "\n",
    "```python\n",
    ".format(interest, principal, interest_rate))\n",
    "```\n",
    "\n",
    "In the end, Jupyter shows the formatted string:\n",
    "\n",
    "```\n",
    "Interest is 20,184 with 1,000,000 at rate 2.0%.\n",
    "```"
   ]
  },
  {
   "cell_type": "markdown",
   "metadata": {},
   "source": [
    "The substring enclosed by the pair of curled braces (`{}`) in the template string specifies how the associated variable is formatted.  We use two of them in the above example:\n",
    "\n",
    "* `{:,.0f}` says to format the real number using fixed-point notation, use `,` to group by thousand, and show no (0) digit after decimal points.\n",
    "* `{:.1%}` says to format the real number as percentage, and show 1 digit after decimal point.\n",
    "\n",
    "But if you don't bother the detailed formatting, it's fine to simply write `{}` as placeholders.  The result is only slightly less clear but you still get it."
   ]
  },
  {
   "cell_type": "code",
   "execution_count": null,
   "metadata": {},
   "outputs": [],
   "source": [
    "print(\"Interest is {} with {} at rate {}.\".format(interest, principal, interest_rate))"
   ]
  },
  {
   "cell_type": "markdown",
   "metadata": {},
   "source": [
    "## Project Step 1: Music Notes"
   ]
  },
  {
   "cell_type": "markdown",
   "metadata": {},
   "source": [
    "The C chord consists of three notes: C4, E4, and G4.  To synthesis the sound, we first need to know the frequencies of the notes.  The formula is:\n",
    "\n",
    "\\begin{equation*}\n",
    "f = 2 ^ {\\frac{d}{12}} \\times f_0\n",
    "\\end{equation*}\n",
    "\n",
    "where $f_0$ is the frequency of the reference note and $d$ is the difference to the reference note.  If we choose A4 as the reference note, and use its frequency 440 Hz, it's straight-forward to calculate the frequencies for the notes we want."
   ]
  },
  {
   "cell_type": "code",
   "execution_count": null,
   "metadata": {},
   "outputs": [],
   "source": [
    "# Define the reference frequency, and calculate the other \n",
    "# frequencies for C4, E4, and G4.\n",
    "ref_freq = 440.0 # The reference frequency uses A4.\n",
    "\n",
    "c4_freq = ref_freq * 2 ** (-9.0/12) # A4 - C4 = 9\n",
    "print(\"Frequency for C4: {:.2f} Hz\".format(c4_freq))\n",
    "e4_freq = ref_freq * 2 ** (-5.0/12) # A4 - E4 = 5\n",
    "print(\"Frequency for E4: {:.2f} Hz\".format(e4_freq))\n",
    "g4_freq = ref_freq * 2 ** (-2.0/12) # A4 - G4 = 2\n",
    "print(\"Frequency for G4: {:.2f} Hz\".format(g4_freq))"
   ]
  },
  {
   "cell_type": "markdown",
   "metadata": {},
   "source": [
    "# Values and Containers\n",
    "\n",
    "In Python, variables can be broadly categorized into two kinds: a mere value and a group of values.  The latter is usually much more useful than the former because repetive work is what computers do especially better than humans."
   ]
  },
  {
   "cell_type": "markdown",
   "metadata": {},
   "source": [
    "## List\n",
    "\n",
    "List is an example of containers.  You can put a sequence of numbers in a list:"
   ]
  },
  {
   "cell_type": "code",
   "execution_count": null,
   "metadata": {},
   "outputs": [],
   "source": [
    "W_inch = 44 # width\n",
    "H_inch = 32 # height\n",
    "D_inch = 46 # depth\n",
    "print(\"Dimension lengths:\", W_inch, H_inch, D_inch)\n",
    "WHD_inches = [44, 32, 46]\n",
    "print(\"Dimension lengths in a list:\", WHD_inches)"
   ]
  },
  {
   "cell_type": "markdown",
   "metadata": {},
   "source": [
    "You may use the `[]` operator to access the individual elements in the list container:"
   ]
  },
  {
   "cell_type": "code",
   "execution_count": null,
   "metadata": {},
   "outputs": [],
   "source": [
    "print(\"Elements in the list:\", WHD_inches[0], WHD_inches[1], WHD_inches[2])"
   ]
  },
  {
   "cell_type": "markdown",
   "metadata": {},
   "source": [
    "You can add or remove values from a list:"
   ]
  },
  {
   "cell_type": "code",
   "execution_count": null,
   "metadata": {},
   "outputs": [],
   "source": [
    "WHD_inches = [44, 32, 46]\n",
    "WHD_inches.append(42)\n",
    "print(\"42 is append to the end of WHD_inches:\", WHD_inches)\n",
    "WHD_inches.insert(1, 42)\n",
    "print(\"42 is inserted in the middle of WHD_inches:\", WHD_inches)\n",
    "del WHD_inches[1]\n",
    "print(\"42 is deleted by index:\", WHD_inches)\n",
    "WHD_inches.remove(42)\n",
    "print(\"42 is removed from WHD_inches:\", WHD_inches)"
   ]
  },
  {
   "cell_type": "markdown",
   "metadata": {},
   "source": [
    "Python provides many helpers for containers.  You can sort the values:"
   ]
  },
  {
   "cell_type": "code",
   "execution_count": null,
   "metadata": {},
   "outputs": [],
   "source": [
    "print(sorted(WHD_inches))\n",
    "print(WHD_inches)"
   ]
  },
  {
   "cell_type": "markdown",
   "metadata": {},
   "source": [
    "Alternate sorting helper can sort the list in place:"
   ]
  },
  {
   "cell_type": "code",
   "execution_count": null,
   "metadata": {},
   "outputs": [],
   "source": [
    "WHD_inches_2 = WHD_inches[:]\n",
    "WHD_inches_2.sort()\n",
    "print(WHD_inches_2)"
   ]
  },
  {
   "cell_type": "markdown",
   "metadata": {},
   "source": [
    "Unlike simple values, adding two lists produces a concatenated list:"
   ]
  },
  {
   "cell_type": "code",
   "execution_count": null,
   "metadata": {},
   "outputs": [],
   "source": [
    "print(W_inch + H_inch + D_inch)\n",
    "print(WHD_inches + sorted(WHD_inches))"
   ]
  },
  {
   "cell_type": "markdown",
   "metadata": {},
   "source": [
    "Since adding a value to a list doesn't make sense, Python doesn't allow it:"
   ]
  },
  {
   "cell_type": "code",
   "execution_count": null,
   "metadata": {},
   "outputs": [],
   "source": [
    "W_inch + WHD_inches # This errors out."
   ]
  },
  {
   "cell_type": "markdown",
   "metadata": {},
   "source": [
    "## Dictionary\n",
    "\n",
    "A dictionary is another type of useful container.  It is a key-value pair, and you may construct it using `{}`."
   ]
  },
  {
   "cell_type": "code",
   "execution_count": null,
   "metadata": {},
   "outputs": [],
   "source": [
    "mapping = {\"age\": 17, \"gender\": \"unknown\"}\n",
    "\n",
    "print(mapping)"
   ]
  },
  {
   "cell_type": "markdown",
   "metadata": {},
   "source": [
    "Dictionary is very useful, but this session hasn't gone to the point, so we'll stop here."
   ]
  },
  {
   "cell_type": "markdown",
   "metadata": {},
   "source": [
    "# Arrays"
   ]
  },
  {
   "cell_type": "markdown",
   "metadata": {},
   "source": [
    "Arrays are the best tools to manage homogeneous data.  The [numpy](http://www.numpy.org/) library provides everything we need for arrays in Python.  To create an array, we may use a list as the initial data:"
   ]
  },
  {
   "cell_type": "code",
   "execution_count": null,
   "metadata": {},
   "outputs": [],
   "source": [
    "# Import the numpy library. It's a world-wide convention to alias it to \"np\".\n",
    "import numpy as np\n",
    "\n",
    "# Make a list of integers.\n",
    "lst = [1, 1, 2, 3, 5]\n",
    "print('A list:', lst)\n",
    "\n",
    "# Make an array from the sequence.\n",
    "array = np.array(lst)\n",
    "print('An array:', np.array(array))"
   ]
  },
  {
   "cell_type": "markdown",
   "metadata": {},
   "source": [
    "The `sequence` and the `array` _look differently_.  But their differences are more than skin deep."
   ]
  },
  {
   "cell_type": "code",
   "execution_count": null,
   "metadata": {},
   "outputs": [],
   "source": [
    "print(type(lst))\n",
    "print(type(array))\n",
    "print(array.dtype)"
   ]
  },
  {
   "cell_type": "markdown",
   "metadata": {},
   "source": [
    "Python knows that the sequence and the array are of different types.  Further, the array has a field `dtype` that indicates what kind of data it holds."
   ]
  },
  {
   "cell_type": "code",
   "execution_count": null,
   "metadata": {},
   "outputs": [],
   "source": [
    "real_sequence = [1.0, 1.0, 2.0, 3.0, 5.0]\n",
    "print(real_sequence, type(real_sequence))\n",
    "real_array = np.array(real_sequence)\n",
    "print(real_array, type(real_array), real_array.dtype)"
   ]
  },
  {
   "cell_type": "markdown",
   "metadata": {},
   "source": [
    "A Python list doesn't know the type it contains, but an array does.  This will come in handy for many applications that process large amount of data."
   ]
  },
  {
   "cell_type": "markdown",
   "metadata": {},
   "source": [
    "## Creating Arrays"
   ]
  },
  {
   "cell_type": "markdown",
   "metadata": {},
   "source": [
    "The most straight-forward way to creating arrays is to use the following helpers:"
   ]
  },
  {
   "cell_type": "code",
   "execution_count": null,
   "metadata": {},
   "outputs": [],
   "source": [
    "empty_array = np.empty(10)\n",
    "print(\"It will contain garbage, but it doesn't waste time to initialize:\", empty_array)\n",
    "\n",
    "zeroed_array = np.zeros(10)\n",
    "print(\"The contents are cleared with zeros:\", zeroed_array)\n",
    "\n",
    "unity_array = np.ones(10)\n",
    "print(\"Instead of zeros, fill it with ones:\", unity_array)\n",
    "\n",
    "print(\"All of their data types are float64 (double-precision floating-point):\",\n",
    "      empty_array.dtype, zeroed_array.dtype, unity_array.dtype)"
   ]
  },
  {
   "cell_type": "markdown",
   "metadata": {},
   "source": [
    "And more:"
   ]
  },
  {
   "cell_type": "code",
   "execution_count": null,
   "metadata": {},
   "outputs": [],
   "source": [
    "filled_array = np.full(10, 7)\n",
    "print(\"Build an array populated with an arbitrary value:\", filled_array)\n",
    "\n",
    "filled_real_array = np.full(10, 7.0)\n",
    "print(\"Build an array populated with an arbitrary real value:\", filled_real_array)\n",
    "\n",
    "empty_array = np.empty(10)\n",
    "empty_array.fill(7)\n",
    "print(\"It's the same as creating an empty array and fill the value:\", empty_array)\n",
    "\n",
    "ranged_array = np.arange(10)\n",
    "print(\"Build an array with range:\", ranged_array)\n",
    "\n",
    "ranged_real_array = np.arange(10.0)\n",
    "print(\"Build with real range:\", ranged_real_array)"
   ]
  },
  {
   "cell_type": "markdown",
   "metadata": {},
   "source": [
    "Some special helpers focus on the content value of the array.  They will save you sometime writing the correct code to determine the boundary values."
   ]
  },
  {
   "cell_type": "code",
   "execution_count": null,
   "metadata": {},
   "outputs": [],
   "source": [
    "linear_array = np.linspace(0, 2, num=10)\n",
    "print(\"Create an equally-spaced array with 10 elements:\", linear_array)"
   ]
  },
  {
   "cell_type": "markdown",
   "metadata": {},
   "source": [
    "## Boolean Arrays"
   ]
  },
  {
   "cell_type": "markdown",
   "metadata": {},
   "source": [
    "In Numpy, the Boolean arrays are often used to filter wanted or unwanted elements in another array."
   ]
  },
  {
   "cell_type": "code",
   "execution_count": null,
   "metadata": {},
   "outputs": [],
   "source": [
    "less_than_5 = ranged_array < 5\n",
    "print(\"The mask for less than 5:\", less_than_5)\n",
    "print(\"The values that are less than 5\", ranged_array[less_than_5])\n",
    "\n",
    "all_on_mask = np.ones(10, dtype='bool')\n",
    "print(\"All on mask:\", all_on_mask)\n",
    "\n",
    "all_off_mask = np.zeros(10, dtype='bool')\n",
    "print(\"All off mask:\", all_off_mask)"
   ]
  },
  {
   "cell_type": "markdown",
   "metadata": {},
   "source": [
    "## Slicing Array"
   ]
  },
  {
   "cell_type": "markdown",
   "metadata": {},
   "source": [
    "Slicing is a different way to view an array."
   ]
  },
  {
   "cell_type": "code",
   "execution_count": null,
   "metadata": {},
   "outputs": [],
   "source": [
    "array = np.arange(10)\n",
    "print(\"This is the original array:\", array)\n",
    "\n",
    "sub_array = array[:5]\n",
    "print(\"This is the sub-array:\", sub_array)\n",
    "\n",
    "sub_array[:] = np.arange(4, -1, -1)\n",
    "print(\"The sub-array is changed:\", sub_array)\n",
    "\n",
    "print(\"And the original array is changed too (!):\", array)"
   ]
  },
  {
   "cell_type": "code",
   "execution_count": null,
   "metadata": {},
   "outputs": [],
   "source": [
    "array = np.arange(10.0)\n",
    "print(\"Recreate the original array to show how to avoid this:\", array)\n",
    "\n",
    "# Make a copy from the slice.\n",
    "sub_array = array[:5].copy()\n",
    "sub_array[:] = np.arange(4, -1, -1)\n",
    "print(\"The sub-array is changed, again:\", sub_array)\n",
    "print(\"But original array remains the same:\", array)"
   ]
  },
  {
   "cell_type": "markdown",
   "metadata": {},
   "source": [
    "## Multi-Dimensional Arrays"
   ]
  },
  {
   "cell_type": "markdown",
   "metadata": {},
   "source": [
    "So far we only saw one-dimensional arrays, but Numpy wouldn't be so useful if it doesn't do a great job on multi-dimensional arrays.  Multi-dimensional arrays are much more useful than one-dimensional because it's the building-block of matrices and linear algebra.\n",
    "\n",
    "First let's see how to creating multi-dimensional arrays from one-dimensionals by stacking:"
   ]
  },
  {
   "cell_type": "code",
   "execution_count": null,
   "metadata": {},
   "outputs": [],
   "source": [
    "ranged_array = np.arange(10)\n",
    "print(\"A 1-D array:\", ranged_array)\n",
    "\n",
    "hstack_array = np.hstack([ranged_array, ranged_array])\n",
    "print(\"Horizontally stacked array:\", hstack_array)\n",
    "\n",
    "vstack_array = np.vstack([ranged_array, ranged_array])\n",
    "print(\"Vertically stacked array:\", vstack_array)"
   ]
  },
  {
   "cell_type": "markdown",
   "metadata": {},
   "source": [
    "When the arrays are in multiple dimension, you can specify the axis of operation.  Let's see a simple matrix:\n",
    "\n",
    "\\begin{align*}\n",
    "A = \\left(\\begin{array}{ccc}\n",
    "a_{00} & a_{01} & a_{02} \\\\\n",
    "a_{10} & a_{11} & a_{12}\n",
    "\\end{array}\\right)\n",
    "= \\left(\\begin{array}{ccc}\n",
    "0 & 1 & 2 \\\\\n",
    "3 & 4 & 5\n",
    "\\end{array}\\right)\n",
    "\\end{align*}\n",
    "\n",
    "Since we are talking about Numpy, the indices start from 0 (normal math uses 1-based indexing).  Let's say we sum the elements along the 0th-axis, we'll get:\n",
    "\n",
    "\\begin{align*}\n",
    "A_{\\mathrm{along } 0} = \\left(\\begin{array}{ccc}\n",
    "a_{00} + a_{10} & a_{01} + a_{11} & a_{02} + a_{12}\n",
    "\\end{array}\\right)\n",
    "= \\left(\\begin{array}{ccc}\n",
    "3 & 5 & 7\n",
    "\\end{array}\\right)\n",
    "\\end{align*}\n",
    "\n",
    "Do it along the 1st-axis:\n",
    "\n",
    "\\begin{align*}\n",
    "A_{\\mathrm{along } 1} = \\left(\\begin{array}{cc}\n",
    "a_{00} + a_{01} + a_{02} & a_{10} + a_{11} + a_{12}\n",
    "\\end{array}\\right)\n",
    "= \\left(\\begin{array}{ccc}\n",
    "3 & 12\n",
    "\\end{array}\\right)\n",
    "\\end{align*}\n",
    "\n",
    "Now let's see the code:"
   ]
  },
  {
   "cell_type": "code",
   "execution_count": null,
   "metadata": {},
   "outputs": [],
   "source": [
    "reshaped_array = np.arange(6).reshape((2,3))\n",
    "print(\"2-D array reshaped from 1-D array:\", reshaped_array)"
   ]
  },
  {
   "cell_type": "code",
   "execution_count": null,
   "metadata": {},
   "outputs": [],
   "source": [
    "print(\"Summation along 0th axis:\", reshaped_array.sum(axis=0))"
   ]
  },
  {
   "cell_type": "code",
   "execution_count": null,
   "metadata": {},
   "outputs": [],
   "source": [
    "print(\"Summation along 1st axis:\", reshaped_array.sum(axis=1))"
   ]
  },
  {
   "cell_type": "markdown",
   "metadata": {},
   "source": [
    "## Project Step 2: Audio Signals\n",
    "\n",
    "In the first project step, we get the frequency of each note in the C chord.  But before we can play it, the frequencies need to be turned into temporal signals.  To do it, we first create the time marks needed by the signals:"
   ]
  },
  {
   "cell_type": "code",
   "execution_count": null,
   "metadata": {},
   "outputs": [],
   "source": [
    "duration = 5.0 # Play for 5 seconds.\n",
    "\n",
    "# Create the time marks.\n",
    "time = np.linspace(0, duration, num=int(sampling_freq*duration))"
   ]
  },
  {
   "cell_type": "markdown",
   "metadata": {},
   "source": [
    "By using the frequencies and the temporal array, we can create the sinusoidal signal for the 3 notes:"
   ]
  },
  {
   "cell_type": "code",
   "execution_count": null,
   "metadata": {},
   "outputs": [],
   "source": [
    "c4_data = np.sin(2*np.pi * c4_freq * time)\n",
    "print(len(c4_data), c4_data)\n",
    "\n",
    "e4_data = np.sin(2*np.pi * e4_freq * time)\n",
    "print(len(e4_data), e4_data)\n",
    "\n",
    "g4_data = np.sin(2*np.pi * g4_freq * time)\n",
    "print(len(g4_data), g4_data)"
   ]
  },
  {
   "cell_type": "markdown",
   "metadata": {},
   "source": [
    "# Present Data"
   ]
  },
  {
   "cell_type": "markdown",
   "metadata": {},
   "source": [
    "It is of course incomplete to create data without see them.  Visualization is important for analysis.  In Python we have a powerful tool called [Matplotlib](https://matplotlib.org/) for showing 2D plots.  To use it, import like the following."
   ]
  },
  {
   "cell_type": "code",
   "execution_count": null,
   "metadata": {},
   "outputs": [],
   "source": [
    "# Import matplotlib interactive API and alias it.\n",
    "import matplotlib.pyplot as plt"
   ]
  },
  {
   "cell_type": "markdown",
   "metadata": {},
   "source": [
    "Let's take the signal of middle C and plot it."
   ]
  },
  {
   "cell_type": "code",
   "execution_count": null,
   "metadata": {},
   "outputs": [],
   "source": [
    "# Plot the first 1000 data points.\n",
    "plt.plot(time[0:1000], c4_data[0:1000])"
   ]
  },
  {
   "cell_type": "markdown",
   "metadata": {},
   "source": [
    "Simple, however, primitive.  Like every plot, we should add the axis labels and units."
   ]
  },
  {
   "cell_type": "code",
   "execution_count": null,
   "metadata": {},
   "outputs": [],
   "source": [
    "plt.plot(time[0:1000], c4_data[0:1000])\n",
    "plt.xlim(time[0], time[999]) # Leave no blank in the x-axis.\n",
    "plt.xlabel(\"time (sec)\")\n",
    "plt.ylabel(\"normalized amplitude\")\n",
    "plt.title(\"C4\")"
   ]
  },
  {
   "cell_type": "markdown",
   "metadata": {},
   "source": [
    "We have three notes to show.  But putting them in the same plot doesn't look good."
   ]
  },
  {
   "cell_type": "code",
   "execution_count": null,
   "metadata": {},
   "outputs": [],
   "source": [
    "plt.plot(time[0:1000], c4_data[0:1000])\n",
    "plt.plot(time[0:1000], e4_data[0:1000])\n",
    "plt.plot(time[0:1000], g4_data[0:1000])\n",
    "plt.xlim(time[0], time[999]) # Leave no blank in the x-axis.\n",
    "plt.xlabel(\"time (sec)\")\n",
    "plt.ylabel(\"normalized amplitude\")"
   ]
  },
  {
   "cell_type": "markdown",
   "metadata": {},
   "source": [
    "A better way is to line them up in three sub plots."
   ]
  },
  {
   "cell_type": "code",
   "execution_count": null,
   "metadata": {},
   "outputs": [],
   "source": [
    "fig = plt.figure(figsize=(12.0, 12.0)) # Make the plot larger for more details.\n",
    "\n",
    "axes_c4 = fig.add_subplot(3, 1, 1)\n",
    "axes_c4.set_xlim(time[0], time[999])\n",
    "axes_c4.set_ylabel('C4')\n",
    "axes_c4.tick_params(axis='x', which='both', labelbottom=False) \n",
    "axes_c4.plot(time[0:1000], c4_data[0:1000])\n",
    "\n",
    "axes_e4 = fig.add_subplot(3, 1, 2)\n",
    "axes_e4.set_xlim(time[0], time[999])\n",
    "axes_e4.set_ylabel('E4')\n",
    "axes_e4.tick_params(axis='x', which='both', labelbottom=False) \n",
    "axes_e4.plot(time[0:1000], e4_data[0:1000])\n",
    "\n",
    "axes_g4 = fig.add_subplot(3, 1, 3)\n",
    "axes_g4.set_xlim(time[0], time[999])\n",
    "axes_g4.set_xlabel('time (sec)')\n",
    "axes_g4.set_ylabel('G4')\n",
    "axes_g4.plot(time[0:1000], g4_data[0:1000])"
   ]
  },
  {
   "cell_type": "markdown",
   "metadata": {},
   "source": [
    "Now we really see the different frequencies in time domain.  It's basic, but you may find abundance of examples at: https://matplotlib.org/gallery/index.html."
   ]
  },
  {
   "cell_type": "markdown",
   "metadata": {},
   "source": [
    "## Project Step 3: Synthesize the Signals\n",
    "\n",
    "Now add together the 3 signals and scale up the intensity.  They become the chord we want."
   ]
  },
  {
   "cell_type": "code",
   "execution_count": null,
   "metadata": {},
   "outputs": [],
   "source": [
    "# Make a list of arrays to prepare for stacking.\n",
    "data_list = [c4_data, e4_data, g4_data]\n",
    "\n",
    "# Stack the arrays vertically.\n",
    "data_stacked = np.vstack(data_list)\n",
    "print(data_stacked.shape)\n",
    "\n",
    "# Synthesize the signals by adding them together.\n",
    "data = data_stacked.sum(axis=0)\n",
    "\n",
    "# Scale up for the right intensity (volume).\n",
    "data *= 2**13\n",
    "\n",
    "# Show the synthesized signal.\n",
    "plt.plot(time[0:1000], data[0:1000])\n",
    "plt.xlim(time[0], time[999])\n",
    "plt.xlabel('time (sec)')\n",
    "plt.ylabel('amplitude')\n",
    "\n",
    "# Play it.\n",
    "display(Audio(data.astype('int16'), rate=sampling_freq))"
   ]
  },
  {
   "cell_type": "markdown",
   "metadata": {},
   "source": [
    "# Preview Next Session: Play a Song"
   ]
  },
  {
   "cell_type": "code",
   "execution_count": null,
   "metadata": {},
   "outputs": [],
   "source": [
    "def play_numbered(numbered_notation, bpm=90, base_octave=4):\n",
    "    # Middle C is denoted by C4\n",
    "    note_map = {'0':' ', '1':'c', '2':'d', '3':'e', '4':'f', '5':'g', '6':'a', '7':'b'}\n",
    "    opt_symbols = [\n",
    "        # octaves\n",
    "        '^', 'v',\n",
    "        # accidentals\n",
    "        '#', 'b',\n",
    "        # note length\n",
    "        '-', '.', '_',\n",
    "        # misc\n",
    "        '|', ' ', ','\n",
    "    ]\n",
    "    beat_sec = 60.0 / bpm\n",
    "    signals = []\n",
    "    # init numbered\n",
    "    octave, accidental, nbeat = base_octave, '', 1.0\n",
    "    for it, num in enumerate(numbered_notation):\n",
    "        # raise/lower octave\n",
    "        if num == '^':\n",
    "            octave += 1\n",
    "        elif num == 'v':\n",
    "            octave -= 1\n",
    "        \n",
    "        # accidentals\n",
    "        if num in '#b':\n",
    "            accidental = num\n",
    "        \n",
    "        if num in opt_symbols:\n",
    "            continue\n",
    "            \n",
    "        for ahead in numbered_notation[it+1:]:\n",
    "            if '-' == ahead:\n",
    "                nbeat += 1\n",
    "            elif '.' == ahead:\n",
    "                nbeat += 0.5\n",
    "            elif '_' == ahead:\n",
    "                nbeat /= 2\n",
    "            else:\n",
    "                break\n",
    "        \n",
    "        time = time_data(beat_sec * nbeat, sampling_freq)\n",
    "        note = note_map[num]\n",
    "        if note != ' ':\n",
    "            note = note + accidental + str(octave)\n",
    "        freq = note_freq(note)\n",
    "        signal = sine_data(freq, time, damp=beat_sec*0.1)\n",
    "        signals.append(signal)\n",
    "        \n",
    "        # reset to default\n",
    "        octave, accidental, nbeat = base_octave, '', 1.0\n",
    "        \n",
    "    data = np.hstack(signals)\n",
    "    display(Audio(data.astype('int16'), rate=sampling_freq))\n",
    "    \n",
    "print(\"Twinkle Twinkle Little Star:\")\n",
    "play_numbered('1155|665-|4433|221-|5544|332-|5544|332-|1155|665-|4433|221-')\n",
    "\n",
    "print(\"Hänschen Klein:\")\n",
    "play_numbered('533-|422-|1234|555-|533-|422-|1355|3--0'\n",
    "              '2222|234-|3333|345-|533-|422-|1355|1--0')\n",
    "\n",
    "print(\"Hänschen Klein at 120 BPM:\")\n",
    "play_numbered('533-|422-|1234|555-|533-|422-|1355|3--0'\n",
    "              '2222|234-|3333|345-|533-|422-|1355|1--0', bpm=120)\n",
    "\n",
    "print(\"Marshmello - TELL ME as 142 BPM:\")\n",
    "play_numbered('#5#1-#5|4-#1_#2_4|#5#1-^#1|^1-#5_#6_4' * 2, bpm=142)"
   ]
  }
 ],
 "metadata": {
  "kernelspec": {
   "display_name": "Python 3",
   "language": "python",
   "name": "python3"
  },
  "language_info": {
   "codemirror_mode": {
    "name": "ipython",
    "version": 3
   },
   "file_extension": ".py",
   "mimetype": "text/x-python",
   "name": "python",
   "nbconvert_exporter": "python",
   "pygments_lexer": "ipython3",
   "version": "3.7.4+"
  }
 },
 "nbformat": 4,
 "nbformat_minor": 2
}
