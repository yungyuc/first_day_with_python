{
 "cells": [
  {
   "cell_type": "markdown",
   "metadata": {},
   "source": [
    "Writing code isn't only about typing source code into computers.  Precisely speaking, it consists of two parts: really writing the code and organizing the written code.  In the morning session we have shown you how to call functions to accomplish what we want.  It's the first part.  In this afternoon session, we proceed with the second part, which is about directing the right code to the right place.\n",
    "\n",
    "Code is read much more often than written.  If the code weren't organized well, it couldn't be understood.  Don't underestimate the importance!\n",
    "\n",
    "We will introduce basic control blocks that are used to organize code.  Similar constructs are also used to control logic, and we will introduce them too.  At the end of this session you will be able to organize the program so that it's readable, maintainable, and extensible."
   ]
  },
  {
   "cell_type": "code",
   "execution_count": null,
   "metadata": {},
   "outputs": [],
   "source": [
    "# This cell sets up the notebook.\n",
    "\n",
    "%matplotlib inline\n",
    "\n",
    "# Import necessary modules.\n",
    "\n",
    "import traceback\n",
    "import os\n",
    "\n",
    "import numpy as np\n",
    "import matplotlib.pyplot as plt\n",
    "from IPython.core.magic import register_cell_magic\n",
    "from IPython.display import display, Audio"
   ]
  },
  {
   "cell_type": "markdown",
   "metadata": {},
   "source": [
    "# Function\n",
    "\n",
    "Functions are the basic unit of Python code.  In the morning session we have used many such units.  In addition to functions in the imported libraries, we also used those in the notebook.  We didn't explain the functions in the beginning, because we do now.  Let's begin with the simplest one:"
   ]
  },
  {
   "cell_type": "code",
   "execution_count": null,
   "metadata": {},
   "outputs": [],
   "source": [
    "sampling_freq = 44100 # 44.1 kHz.\n",
    "\n",
    "def time_data(duration, rate=sampling_freq):\n",
    "    return np.linspace(0, duration, num=int(rate*duration))"
   ]
  },
  {
   "cell_type": "markdown",
   "metadata": {},
   "source": [
    "A function is defined with the syntax:\n",
    "\n",
    "```python\n",
    "def function_name(arg1, arg2, ..., kwarg1=value1, kwarg2=value2, ...):\n",
    "    function body\n",
    "```\n",
    "\n",
    "`arg1, arg2` are the _positional arguments_.  As the name suggests, their order matters.  `kwarg1=value1, kwarg2=value2` are the _keyword arguments_.  Their order doesn't matter, but they must have the default value set.  `function body` must be valid Python code.\n",
    "\n",
    "You may notice that the `function body` is indented.  Indentation is how Python defines a program block.  Almost in all programming languages, we will use indentation to distinguish a program block, but Python makes it part of the syntax.  Indented blocks are almost always more readable than those aren't, and that's the secret sause why Python is so easy to use.\n",
    "\n",
    "Indentation is used everywhere in Python.  You'll see more later in this session.\n",
    "\n",
    "To our example (the function `time_data()`), we have 1 positional argument `duration`, and 1 keyword argument `rate` with the default value `sampling_freq`.  The default value is a variable, instead of a constant, because it has other uses.\n",
    "\n",
    "To recapitulate, run the following cell and see what `time_data()` did:"
   ]
  },
  {
   "cell_type": "code",
   "execution_count": null,
   "metadata": {},
   "outputs": [],
   "source": [
    "# time_data gives you an array of time points.\n",
    "time = time_data(10)\n",
    "plt.plot(time)"
   ]
  },
  {
   "cell_type": "markdown",
   "metadata": {},
   "source": [
    "## Argument\n",
    "\n",
    "Arguments are input to a function.  A mathematic function\n",
    "\n",
    "\\begin{align*}\n",
    "f:x \\rightarrow f(x)\n",
    "\\end{align*}\n",
    "\n",
    "maps one set to another.  Python's function is similar, arguments may take in two concrete forms: positional and keyword.  The arguments of a function heavily depends on the definition of the function itself.  Here we are going to see how to use the positional and keyword arguments."
   ]
  },
  {
   "cell_type": "markdown",
   "metadata": {},
   "source": [
    "A function with a single positional argument:"
   ]
  },
  {
   "cell_type": "code",
   "execution_count": null,
   "metadata": {},
   "outputs": [],
   "source": [
    "def func1(arg1):\n",
    "    print(\"arg1:\", arg1)\n",
    "\n",
    "func1(1)"
   ]
  },
  {
   "cell_type": "markdown",
   "metadata": {},
   "source": [
    "Two positional arguments:"
   ]
  },
  {
   "cell_type": "code",
   "execution_count": null,
   "metadata": {},
   "outputs": [],
   "source": [
    "def func2(arg1, arg2):\n",
    "    print(\"arg1:\", arg1, \"arg2:\", arg2)\n",
    "\n",
    "func2(1, 2)"
   ]
  },
  {
   "cell_type": "markdown",
   "metadata": {},
   "source": [
    "As long as we are with only positional argument, the rule is fairly simple.  Like the name suggests, everything is ordered in position.\n",
    "\n",
    "Now we add the keyword arguments, and things get interesting:"
   ]
  },
  {
   "cell_type": "code",
   "execution_count": null,
   "metadata": {},
   "outputs": [],
   "source": [
    "def func3(arg1, arg2, arg3=\"value3\"):\n",
    "    print(\"arg1:\", arg1, \"arg2:\", arg2, \"arg3:\", arg3)\n",
    "\n",
    "func3(1, 2)"
   ]
  },
  {
   "cell_type": "markdown",
   "metadata": {},
   "source": [
    "First thing you notice is that we don't specify the third argument, which is a keyword, and the function still get the value.  Keyword arguments always have default values associated, so a keyword argument is often used to provide default value.\n",
    "\n",
    "But it is also OK to treat it like a positional argument:"
   ]
  },
  {
   "cell_type": "code",
   "execution_count": null,
   "metadata": {},
   "outputs": [],
   "source": [
    "func3(1, 2, 3)"
   ]
  },
  {
   "cell_type": "markdown",
   "metadata": {},
   "source": [
    "Now let's see why it's called the \"keyword\" argument; you really can use the \"keyword\" to specify the argument:"
   ]
  },
  {
   "cell_type": "code",
   "execution_count": null,
   "metadata": {},
   "outputs": [],
   "source": [
    "func3(1, 2, arg3=\"three\")"
   ]
  },
  {
   "cell_type": "markdown",
   "metadata": {},
   "source": [
    "You may wonder if we can do the same to the positional arguments?  You guess right:"
   ]
  },
  {
   "cell_type": "code",
   "execution_count": null,
   "metadata": {},
   "outputs": [],
   "source": [
    "func3(arg1=\"one\", arg2=\"two\", arg3=\"three\")"
   ]
  },
  {
   "cell_type": "markdown",
   "metadata": {},
   "source": [
    "Although both positional and keyword arguments can be specified using \"keywords\", the former cannot be reordered, while the latter can:"
   ]
  },
  {
   "cell_type": "code",
   "execution_count": null,
   "metadata": {},
   "outputs": [],
   "source": [
    "def func4(arg1, arg2, arg3=\"value3\", arg4=\"value4\"):\n",
    "    print(\"arg1:\", arg1, \"arg2:\", arg2, \"arg3:\", arg3, \"arg4:\", arg4)\n",
    "    \n",
    "func4(\"one\", \"two\", \"three\", \"four\") # In the original order"
   ]
  },
  {
   "cell_type": "code",
   "execution_count": null,
   "metadata": {},
   "outputs": [],
   "source": [
    "func4(arg3=\"three\", arg1=\"one\", arg2=\"two\", arg4=\"four\") # Keywords can be in any order"
   ]
  },
  {
   "cell_type": "markdown",
   "metadata": {},
   "source": [
    "Because positional arguments don't have default value, you must supply them when calling the function:"
   ]
  },
  {
   "cell_type": "code",
   "execution_count": null,
   "metadata": {},
   "outputs": [],
   "source": [
    "func4(arg2=\"two\", arg3=\"three\", arg4=\"four\")"
   ]
  },
  {
   "cell_type": "markdown",
   "metadata": {},
   "source": [
    "And keyword arguments must follow positional arguments:"
   ]
  },
  {
   "cell_type": "code",
   "execution_count": null,
   "metadata": {},
   "outputs": [],
   "source": [
    "func4(arg1=\"one\", \"two\", arg3=\"three\", arg4=\"four\")"
   ]
  },
  {
   "cell_type": "markdown",
   "metadata": {},
   "source": [
    "# Conditional Statements"
   ]
  },
  {
   "cell_type": "markdown",
   "metadata": {},
   "source": [
    "Conditional statements are used to divert program work flow.  See an example:"
   ]
  },
  {
   "cell_type": "code",
   "execution_count": null,
   "metadata": {},
   "outputs": [],
   "source": [
    "if len(\"data stream\") > 5:\n",
    "    print(\"\\\"data stream\\\" has more than 5 characters\")"
   ]
  },
  {
   "cell_type": "markdown",
   "metadata": {},
   "source": [
    "There are three statements to control conditional flow: `if`, `else`, and `elif`.  Another example can best describe what they are doing:"
   ]
  },
  {
   "cell_type": "code",
   "execution_count": null,
   "metadata": {},
   "outputs": [],
   "source": [
    "if \"action\" in \"Action is louder than words\":\n",
    "    print(\"There is action\")\n",
    "elif \"words\" in \"Action is louder than words\":\n",
    "    print(\"There are words\")\n",
    "else:\n",
    "    print(\"No action nor words\")"
   ]
  },
  {
   "cell_type": "markdown",
   "metadata": {},
   "source": [
    "The above conditional statements aren't very interesting, because they compute things that we already know.  You are right, most conditional statements aren't like those.  We usually use variables in the conditionals:"
   ]
  },
  {
   "cell_type": "code",
   "execution_count": null,
   "metadata": {},
   "outputs": [],
   "source": [
    "lucky_number = 19223 + 123 - 34 + 2291 + 9452\n",
    "if lucky_number % 5 == 0:\n",
    "    print(\"The number is multiple of 5\")\n",
    "else:\n",
    "    print(\"I ain't really interested in it\")"
   ]
  },
  {
   "cell_type": "markdown",
   "metadata": {},
   "source": [
    "Sometimes we need to combine multiple conditions.  Python provides `and` and `or` keywords to do it:"
   ]
  },
  {
   "cell_type": "code",
   "execution_count": null,
   "metadata": {},
   "outputs": [],
   "source": [
    "value = 10\n",
    "if 5 < value and value < 15:\n",
    "    print(\"value {:d} is between 5 and 15\".format(value))\n",
    "value = 1\n",
    "if value < 5 or value > 15:\n",
    "    print(\"value {:d} is outside the range between 5 and 15\".format(value))"
   ]
  },
  {
   "cell_type": "markdown",
   "metadata": {},
   "source": [
    "## Value for Condition\n",
    "\n",
    "Python's `if` can take any type of variable, but the most common types are numbers and Boolean (true/false).  The operators we used above all return Boolean:"
   ]
  },
  {
   "cell_type": "code",
   "execution_count": null,
   "metadata": {},
   "outputs": [],
   "source": [
    "print(1==0)"
   ]
  },
  {
   "cell_type": "code",
   "execution_count": null,
   "metadata": {},
   "outputs": [],
   "source": [
    "print(10<20)"
   ]
  },
  {
   "cell_type": "code",
   "execution_count": null,
   "metadata": {},
   "outputs": [],
   "source": [
    "print(1==0 and 10<20)"
   ]
  },
  {
   "cell_type": "code",
   "execution_count": null,
   "metadata": {},
   "outputs": [],
   "source": [
    "print(1==0 or 10<20)"
   ]
  },
  {
   "cell_type": "code",
   "execution_count": null,
   "metadata": {},
   "outputs": [],
   "source": [
    "print(\"action\" in \"Action is louder than words\")\n",
    "# Recall the case sensitivity\n",
    "print(\"Action\" in \"Action is louder than words\")"
   ]
  },
  {
   "cell_type": "markdown",
   "metadata": {},
   "source": [
    "But numbers are often used in conditionals:"
   ]
  },
  {
   "cell_type": "code",
   "execution_count": null,
   "metadata": {},
   "outputs": [],
   "source": [
    "# Zero is taken as False.\n",
    "value = 0\n",
    "if value:\n",
    "    print(\"value is\", value)\n",
    "else:\n",
    "    print(\"value 0\")"
   ]
  },
  {
   "cell_type": "code",
   "execution_count": null,
   "metadata": {},
   "outputs": [],
   "source": [
    "# Positive number is True.\n",
    "value = 10e-250\n",
    "if value:\n",
    "    print(\"value is\", value)\n",
    "else:\n",
    "    print(\"value 0\")"
   ]
  },
  {
   "cell_type": "code",
   "execution_count": null,
   "metadata": {},
   "outputs": [],
   "source": [
    "# Negative number is taken as True, too.\n",
    "value = -1\n",
    "if value:\n",
    "    print(\"value is\", value)\n",
    "else:\n",
    "    print(\"value 0\")"
   ]
  },
  {
   "cell_type": "markdown",
   "metadata": {},
   "source": [
    "## Use `if` in Our Project\n",
    "\n",
    "Come back to our player example.  We want to damp signal and the beginning and the end of a note:"
   ]
  },
  {
   "cell_type": "code",
   "execution_count": null,
   "metadata": {},
   "outputs": [],
   "source": [
    "def sine_data(freq, time, damp=0):\n",
    "    data = 2**13 * np.sin(2*np.pi * freq * time)\n",
    "    if damp: # Remove bump.\n",
    "        todamp = int(damp * sampling_freq)\n",
    "        darr = np.arange(todamp)/(todamp-1)\n",
    "        darr = np.sin(darr * np.pi / 2)\n",
    "        data[:todamp] *= darr\n",
    "        data[-todamp:] *= 1-darr\n",
    "    return data"
   ]
  },
  {
   "cell_type": "markdown",
   "metadata": {},
   "source": [
    "Try it.  First without the damping.  At the beginning and the end of the sound, you hear an abrupt bump:"
   ]
  },
  {
   "cell_type": "code",
   "execution_count": null,
   "metadata": {},
   "outputs": [],
   "source": [
    "time = time_data(1, sampling_freq) # 1 second\n",
    "signal = sine_data(440, time) # no damping\n",
    "display(Audio(signal.astype('int16'), rate=sampling_freq))"
   ]
  },
  {
   "cell_type": "markdown",
   "metadata": {},
   "source": [
    "Now tell `sine_data` to damp the signal at the last 0.1 second.  The bump is removed:"
   ]
  },
  {
   "cell_type": "code",
   "execution_count": null,
   "metadata": {},
   "outputs": [],
   "source": [
    "signal = sine_data(440, time, damp=0.1) # damp the first and last 0.1 second.\n",
    "display(Audio(signal.astype('int16'), rate=sampling_freq))"
   ]
  },
  {
   "cell_type": "markdown",
   "metadata": {},
   "source": [
    "# Dictionary\n",
    "\n",
    "Dictionary (`dict`) is the most useful data container in Python.  Essentially it stores pairs of key and value.  You can put almost anything in a `dict` (the key is subject to a little limitation, but we don't go into that detail)."
   ]
  },
  {
   "cell_type": "code",
   "execution_count": null,
   "metadata": {},
   "outputs": [],
   "source": [
    "actions = {\"cat\": \"meow\", \"dog\": \"bark\"}\n",
    "print(\"cat can\", actions[\"cat\"])\n",
    "print(\"dog can\", actions[\"dog\"])"
   ]
  },
  {
   "cell_type": "markdown",
   "metadata": {},
   "source": [
    "If you ask for a non-existing key from a dictionary, Python cries:"
   ]
  },
  {
   "cell_type": "code",
   "execution_count": null,
   "metadata": {},
   "outputs": [],
   "source": [
    "# Actions doesn't have snake.\n",
    "if \"snake\" in actions:\n",
    "    print(actions[\"snake\"])\n",
    "else:\n",
    "    print(\"no key named snake\")\n",
    "# Nothing good happens if we insist to get it.\n",
    "actions[\"snake\"]"
   ]
  },
  {
   "cell_type": "markdown",
   "metadata": {},
   "source": [
    "There is a way to prevent the error.  Instead of using `[]`, use `get()` for the key you aren't sure about the existence:"
   ]
  },
  {
   "cell_type": "code",
   "execution_count": null,
   "metadata": {},
   "outputs": [],
   "source": [
    "print(\"snake can\", actions.get(\"snake\"))\n",
    "# See what's ``None''\n",
    "print(type(actions.get(\"snake\")))\n",
    "print(type(\"None\"))\n",
    "print(type(None))"
   ]
  },
  {
   "cell_type": "markdown",
   "metadata": {},
   "source": [
    "If you want to change the returned default value, tell `get()` so:"
   ]
  },
  {
   "cell_type": "code",
   "execution_count": null,
   "metadata": {},
   "outputs": [],
   "source": [
    "print(\"snake can\", actions.get(\"snake\", 3.1415926))"
   ]
  },
  {
   "cell_type": "markdown",
   "metadata": {},
   "source": [
    "Another convenient helper is `setdefault()`.  If the key is already there, it works just like `[]` or `get()`.  If the key is missing, it would add the key-value pair into the dictionary."
   ]
  },
  {
   "cell_type": "code",
   "execution_count": null,
   "metadata": {},
   "outputs": [],
   "source": [
    "actions = {\"cat\": \"meow\", \"dog\": \"bark\"} # No \"python\".\n",
    "assert \"python\" not in actions\n",
    "print(\"python can\", actions.setdefault(\"python\", \"code\"))\n",
    "print(\"again, python can\", actions[\"python\"])"
   ]
  },
  {
   "cell_type": "markdown",
   "metadata": {},
   "source": [
    "If you want to know what keys a dictionary has, use `keys()`:"
   ]
  },
  {
   "cell_type": "code",
   "execution_count": null,
   "metadata": {},
   "outputs": [],
   "source": [
    "print(actions.keys())"
   ]
  },
  {
   "cell_type": "markdown",
   "metadata": {},
   "source": [
    "## Dictionary for Complex Conditional"
   ]
  },
  {
   "cell_type": "code",
   "execution_count": null,
   "metadata": {},
   "outputs": [],
   "source": [
    "import random # Let's play with uncertainty.\n",
    "# What would happen if there are 100 choices?\n",
    "choice = random.choice([0, 1, 2, 3])\n",
    "if 0 == choice:\n",
    "    print(\"zero\")\n",
    "elif 1 == choice:\n",
    "    print(\"one\")\n",
    "elif 2 == choice:\n",
    "    print(\"two\")\n",
    "elif 3 == choice:\n",
    "    print(\"three\")\n",
    "else:\n",
    "    raise KeyError(choice)"
   ]
  },
  {
   "cell_type": "markdown",
   "metadata": {},
   "source": [
    "Dictionaries are mapping, and suitable to replace long conditional statements:"
   ]
  },
  {
   "cell_type": "code",
   "execution_count": null,
   "metadata": {},
   "outputs": [],
   "source": [
    "numbers = {0: \"zero\", 1: \"one\", 2: \"two\", 3: \"three\"}\n",
    "print(numbers[random.choice([0, 1, 2, 3])])"
   ]
  },
  {
   "cell_type": "markdown",
   "metadata": {},
   "source": [
    "## Two Forms for Construction\n",
    "\n",
    "Instead of `{}`, you can also use the dictionary type name `dict` to construct the object:"
   ]
  },
  {
   "cell_type": "code",
   "execution_count": null,
   "metadata": {},
   "outputs": [],
   "source": [
    "name_map = dict(brother=\"tom\", sister=\"helen\")\n",
    "print(name_map)"
   ]
  },
  {
   "cell_type": "markdown",
   "metadata": {},
   "source": [
    "`dict` is also the type name:"
   ]
  },
  {
   "cell_type": "code",
   "execution_count": null,
   "metadata": {},
   "outputs": [],
   "source": [
    "print(type(name_map))\n",
    "print(isinstance(name_map, dict))"
   ]
  },
  {
   "cell_type": "markdown",
   "metadata": {},
   "source": [
    "But it wouldn't work for non-string keys:"
   ]
  },
  {
   "cell_type": "code",
   "execution_count": null,
   "metadata": {},
   "outputs": [],
   "source": [
    "number_map = dict(0=\"male\", 1=\"female\")"
   ]
  },
  {
   "cell_type": "markdown",
   "metadata": {},
   "source": [
    "## Dictionary Used in Player\n",
    "\n",
    "The function `note_freq()` uses dictionary to map the note symbols to their frequencies."
   ]
  },
  {
   "cell_type": "code",
   "execution_count": null,
   "metadata": {},
   "outputs": [],
   "source": [
    "def note_freq(note):\n",
    "    \"\"\"Parse note symbol \"a4\", \"c4\", etc. and calculate frequency (in Hz).\"\"\"\n",
    "    if ' ' == note:\n",
    "        return 0.0\n",
    "    f0 = 440.0 # A4\n",
    "    note = note.lower()\n",
    "    diff = {'a': 0, 'b': 2, 'c': -9, 'd': -7, 'e': -5, 'f': -4, 'g': -2}[note[0]]\n",
    "    diff += {'#': 1, 'b': -1}.get(note[1], 0)\n",
    "    diff += 12 * (int(note[-1])-4)\n",
    "    return f0 * 2 ** (float(diff)/12)"
   ]
  },
  {
   "cell_type": "markdown",
   "metadata": {},
   "source": [
    "Recap and see how it works for middle C:"
   ]
  },
  {
   "cell_type": "code",
   "execution_count": null,
   "metadata": {},
   "outputs": [],
   "source": [
    "freq = note_freq(\"c4\")\n",
    "signal = sine_data(freq, time, damp=0.1)\n",
    "display(Audio(signal.astype('int16'), rate=sampling_freq))"
   ]
  },
  {
   "cell_type": "markdown",
   "metadata": {},
   "source": [
    "# Loop"
   ]
  },
  {
   "cell_type": "markdown",
   "metadata": {},
   "source": [
    "The last thing we need to learn before finishing the song player, is to repeat an unknown number of notes.  Without the ability, we can only play a sequence of pre-determined notes:"
   ]
  },
  {
   "cell_type": "code",
   "execution_count": null,
   "metadata": {},
   "outputs": [],
   "source": [
    "signals = list()\n",
    "signals.append(sine_data(note_freq(\"c4\"), time, damp=0.1))\n",
    "signals.append(sine_data(note_freq(\"d4\"), time, damp=0.1))\n",
    "signals.append(sine_data(note_freq(\"e4\"), time, damp=0.1))\n",
    "display(Audio(np.hstack(signals).astype('int16'), rate=sampling_freq))"
   ]
  },
  {
   "cell_type": "markdown",
   "metadata": {},
   "source": [
    "No one wants to write a song like that.  To type sheet music using plain text may be unrealistic, but we at least should allow numbered notation.  Python's `for` loop is the building block for us to do it.\n",
    "\n",
    "The `for` loop is used with a container.  Think of a container as a group of data.  The `for` loop would take one item from it at one time.  For example:"
   ]
  },
  {
   "cell_type": "code",
   "execution_count": null,
   "metadata": {},
   "outputs": [],
   "source": [
    "data = [1, 3, 5, 7, 2, 4, 6]\n",
    "for item in data:\n",
    "    print(\"item:\", item)"
   ]
  },
  {
   "cell_type": "markdown",
   "metadata": {},
   "source": [
    "Python loops are as easy as that, although Python provides some helpers to make it even easier.  `enumerate()` gives us both the serial number of the iterated item:"
   ]
  },
  {
   "cell_type": "code",
   "execution_count": null,
   "metadata": {},
   "outputs": [],
   "source": [
    "for placeholder in enumerate(data):\n",
    "    it, item = placeholder\n",
    "    print(it, item)\n",
    "# You can also unpack the sequence right before \"in\"\n",
    "for it, item in enumerate(data):\n",
    "    print(it, item)"
   ]
  },
  {
   "cell_type": "markdown",
   "metadata": {},
   "source": [
    "`range()` simply returns the value from 0 to the input integer minus 1:"
   ]
  },
  {
   "cell_type": "code",
   "execution_count": null,
   "metadata": {},
   "outputs": [],
   "source": [
    "print(range(10)) # it's not a list!\n",
    "for val in range(10):\n",
    "    print(\"value:\", val)"
   ]
  },
  {
   "cell_type": "markdown",
   "metadata": {},
   "source": [
    "You can specify different ranges, too, however:"
   ]
  },
  {
   "cell_type": "code",
   "execution_count": null,
   "metadata": {},
   "outputs": [],
   "source": [
    "for val in range(1, 4):\n",
    "    print(\"value:\", val)"
   ]
  },
  {
   "cell_type": "markdown",
   "metadata": {},
   "source": [
    "And different increment value:"
   ]
  },
  {
   "cell_type": "code",
   "execution_count": null,
   "metadata": {},
   "outputs": [],
   "source": [
    "for val in range(4, 0, -1):\n",
    "    print(\"value:\", val)"
   ]
  },
  {
   "cell_type": "markdown",
   "metadata": {},
   "source": [
    "For dictionary, `for` loop takes the key (not the value):"
   ]
  },
  {
   "cell_type": "code",
   "execution_count": null,
   "metadata": {},
   "outputs": [],
   "source": [
    "datamap = {1: \"one\", 3: \"three\", 5: \"five\", 7: \"seven\", 2: \"two\", 4: \"four\", 6: \"six\"}\n",
    "for key in datamap:\n",
    "    print(\"item {:04d}: {:s}.\".format(key, datamap[key]))"
   ]
  },
  {
   "cell_type": "markdown",
   "metadata": {},
   "source": [
    "# Put Together the Song Player\n",
    "\n",
    "Now we can write a function to take a string as numbered notation for a song.  It would require everything we learned in this session."
   ]
  },
  {
   "cell_type": "code",
   "execution_count": null,
   "metadata": {},
   "outputs": [],
   "source": [
    "def play_numbered(numbered_notation, bpm=90, base_octave=4):\n",
    "    # Middle C is denoted by C4\n",
    "    note_map = {'0':' ', '1':'c', '2':'d', '3':'e', '4':'f', '5':'g', '6':'a', '7':'b'}\n",
    "    opt_symbols = [\n",
    "        # octaves\n",
    "        '^', 'v',\n",
    "        # accidentals\n",
    "        '#', 'b',\n",
    "        # note length\n",
    "        '-', '.', '_',\n",
    "        # misc\n",
    "        '|', ' ', ','\n",
    "    ]\n",
    "    beat_sec = 60.0 / bpm\n",
    "    signals = []\n",
    "    # init numbered\n",
    "    octave, accidental, nbeat = base_octave, '', 1.0\n",
    "    for it, num in enumerate(numbered_notation):\n",
    "        # raise/lower octave\n",
    "        if num == '^':\n",
    "            octave += 1\n",
    "        elif num == 'v':\n",
    "            octave -= 1\n",
    "        \n",
    "        # accidentals\n",
    "        if num in '#b':\n",
    "            accidental = num\n",
    "        \n",
    "        if num in opt_symbols:\n",
    "            continue\n",
    "            \n",
    "        for ahead in numbered_notation[it+1:]:\n",
    "            if '-' == ahead:\n",
    "                nbeat += 1\n",
    "            elif '.' == ahead:\n",
    "                nbeat += 0.5\n",
    "            elif '_' == ahead:\n",
    "                nbeat /= 2\n",
    "            else:\n",
    "                break\n",
    "        \n",
    "        time = time_data(beat_sec * nbeat, sampling_freq)\n",
    "        note = note_map[num]\n",
    "        if note != ' ':\n",
    "            note = note + accidental + str(octave)\n",
    "        freq = note_freq(note)\n",
    "        signal = sine_data(freq, time, damp=beat_sec*0.1)\n",
    "        signals.append(signal)\n",
    "        \n",
    "        # reset to default\n",
    "        octave, accidental, nbeat = base_octave, '', 1.0\n",
    "        \n",
    "    data = np.hstack(signals)\n",
    "    display(Audio(data.astype('int16'), rate=sampling_freq))"
   ]
  },
  {
   "cell_type": "markdown",
   "metadata": {},
   "source": [
    "Let's try some songs:"
   ]
  },
  {
   "cell_type": "code",
   "execution_count": null,
   "metadata": {},
   "outputs": [],
   "source": [
    "print(\"Twinkle Twinkle Little Star:\")\n",
    "play_numbered('1155|665-|4433|221-|5544|332-|5544|332-|1155|665-|4433|221-')\n",
    "\n",
    "print(\"Hänschen Klein:\")\n",
    "play_numbered('533-|422-|1234|555-|533-|422-|1355|3--0'\n",
    "              '2222|234-|3333|345-|533-|422-|1355|1--0')\n",
    "\n",
    "print(\"Hänschen Klein at 120 BPM:\")\n",
    "play_numbered('533-|422-|1234|555-|533-|422-|1355|3--0'\n",
    "              '2222|234-|3333|345-|533-|422-|1355|1--0', bpm=120)\n",
    "\n",
    "print(\"Marshmello - TELL ME as 142 BPM:\")\n",
    "play_numbered('#5#1-#5|4-#1_#2_4|#5#1-^#1|^1-#5_#6_4' * 2, bpm=142)"
   ]
  }
 ],
 "metadata": {
  "kernelspec": {
   "display_name": "Python 3",
   "language": "python",
   "name": "python3"
  },
  "language_info": {
   "codemirror_mode": {
    "name": "ipython",
    "version": 3
   },
   "file_extension": ".py",
   "mimetype": "text/x-python",
   "name": "python",
   "nbconvert_exporter": "python",
   "pygments_lexer": "ipython3",
   "version": "3.7.4+"
  }
 },
 "nbformat": 4,
 "nbformat_minor": 2
}
