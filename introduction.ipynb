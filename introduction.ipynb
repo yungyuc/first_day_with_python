{
 "cells": [
  {
   "cell_type": "markdown",
   "metadata": {},
   "source": [
    "# First Day with Python: Start with Introduction"
   ]
  },
  {
   "cell_type": "markdown",
   "metadata": {},
   "source": [
    "## What Is Python\n",
    "\n",
    "Python is a programming language that has a broad range of applications.  It can be used to construct almost any kind of software.  It is also easy to write, to the point of being recognized as _executable pseudo code_.  Ease of use is probably the most superficial yet realistic description of Python.  It's why we should learn it."
   ]
  },
  {
   "cell_type": "markdown",
   "metadata": {},
   "source": [
    "## Libraries, Modules, and Packages\n",
    "\n",
    "It's the first point that a new programmer should establish: Writing computer code is more about using code that's already written by other people.  We do not create from null.  While coding, we will use many \"libraries\", which contains developed and verified code.  As we start, remember this.\n",
    "\n",
    "In Python, \"library\" is loosely defined.  You cannot find something really called a \"library\" in Python.  Instead, Python defines modules and packages that you may import.  When we say we use a library, in code we will import a module or a package.  The two constructs work similarly.  The major difference is that a package may contain other modules or packages (i.e., sub-modules and sub-packages), while a module doesn't.  Or you can say a module is flat, while a package is hierarchical.  No matter which you import, it always looks like:\n",
    "\n",
    "```python\n",
    "import something_either_a_module_or_a_package\n",
    "```"
   ]
  },
  {
   "cell_type": "markdown",
   "metadata": {},
   "source": [
    "In reality we never use such a verbose module name.  Python provides many useful libraries."
   ]
  },
  {
   "cell_type": "code",
   "execution_count": null,
   "metadata": {},
   "outputs": [],
   "source": [
    "import datetime                # Import a library.\n",
    "print(datetime.datetime.now()) # Print the current time."
   ]
  },
  {
   "cell_type": "markdown",
   "metadata": {},
   "source": [
    "The above code imports a module named `datetime` and shows the current time."
   ]
  },
  {
   "cell_type": "markdown",
   "metadata": {},
   "source": [
    "## What are Python Programs?\n",
    "\n",
    "A Python program is some characters that can be executed by the Python interpreter.  And in what follows we describe more concrete forms of it.\n",
    "\n",
    "First is the \"code cells\" in this Jupyter notebook.  Jupyter is a system that allows you to run Python code.  We have already seen a code cell, which we used to print the current time above.\n",
    "\n",
    "The second form is a file that contains Python program code.  This could be the most versatile form.  We can make the file \"executable\" from a command-line \"terminal\", which we uses to send commands to computer.  By using this form, we can make the program to read data from various sources, and write to many places.\n",
    "\n",
    "This is an example of a Python program file shown in an editor:\n",
    "\n",
    "<img src=\"progfile.png\" alt=\"program file\" style=\"width: 50%;\"/>"
   ]
  },
  {
   "cell_type": "markdown",
   "metadata": {},
   "source": [
    "The third form is a set of files that makes up a library.  When the features are complex enough, a single file is usualy insufficient to house all the code for a library.  Python allows us to break it into many files and put together a package.  For example, `numpy` is such a library.  Beneath the top-level namespace \"numpy\", there are many sub-modules or sub-packages, like `numpy.linalg` for linear-algebraic features, `numpy.fft` for fast-Fourier transform, etc.\n",
    "\n",
    "There are other forms, but basically they are derived from the three basic forms.  Web programs are ususually organized like a library, and invoked by a \"framework\" that is driven by a web server.  GUI (graphical-user interface) programs also needs a framework system of a different kind.  At this point, we shouldn't go into the detail, but it's good to know they exist.\n",
    "\n",
    "This is an example for web application.  A web application looks exactly like a web page:\n",
    "\n",
    "<img src=\"webapp.png\" alt=\"web app\" style=\"width: 50%;\"/>"
   ]
  },
  {
   "cell_type": "markdown",
   "metadata": {},
   "source": [
    "## What Does Python Do?\n",
    "\n",
    "Python can be used virtually anywhere.  You might have felt it in the previous section.  A Python program can be as simple as a snippet of Python code.  As long as we can feed it into the Python interpreter, it can be executed.  A cell in the Jupyter notebook is a small Python program.  However, Jupyter itself is also written in Python.  Since you are using a web browser to view and execute this notebook, it probably doesn't surprise you that Jupyter is a web-based application.\n",
    "\n",
    "To help you imagine what Python can be used and how you may use Python for, here are some examples:\n",
    "\n",
    "* Scientific computing and data analysis\n",
    "\n",
    "  Numerical and scientific analysis is what Python is especially good at.  I am pretty sure Python is built for you, unless you are already familiar with a dedicated tool and don't want to change.  Even if you do have one for a specific problem domain, it's very likely that Python _will_ do better, because it provides excellent extensibility technically and commercially. \n",
    "\n",
    "* System administration\n",
    "\n",
    "  Almost every unix-like system has Python installed.  You can be sure that it is OK to write Python code to automate administration.  Comparing to shell scripts, Python code allows flexible organization and thus more reusability.\n",
    "\n",
    "* Web applications\n",
    "\n",
    "  Web site is the first choice when you want to provide services.  Combining the capability of numerical analysis and system administration, Python is the ideal platform to develop web-based applications.  There are more than abundant frameworks to choose from, e.g, Django and flask.  Your requirements will always be fulfilled."
   ]
  },
  {
   "cell_type": "markdown",
   "metadata": {},
   "source": [
    "## Course Outline\n",
    "\n",
    "The rest of this course is divided into two parts.  The first part is to let you experience how to use some of the most powerful Python libraries to process data.  Then in the second part, we go deeper to basic Python constructs, and conclude with follow-up materials.  After the course you will be able to use Python as a tool to compute the data you are interested in, and start to learn more skills.\n",
    "\n",
    "### Morning Schedule\n",
    "\n",
    "* 0900 - 0930 Registration\n",
    "* 0930 - 0950 Introduction and Environment Set up\n",
    "  * What Is Python?\n",
    "  * Libraries, Modules, and Packages\n",
    "  * What Are Python Programs?\n",
    "  * What Does Python Do?\n",
    "  * Course Outline\n",
    "  * Start Jupyter Lab\n",
    "* 0950 - 1000 Get Ready for the First Experience\n",
    "* 1000 - 1200 Session 1: [Data Processing](dataproc.ipynb)\n",
    "  * Variables\n",
    "  * Numbers\n",
    "  * Format Numbers in Strings\n",
    "  * Values and Containers\n",
    "  * Arrays\n",
    "  * Present Data\n",
    "  * *(Networking Time) Group Discussions and Telegram Connection*\n",
    "\n",
    "### Lunch Time\n",
    "\n",
    "* 1200 - 1250 Hunt for Food\n",
    "\n",
    "### Afternoon Schedule\n",
    "\n",
    "* 1250 - 1300 Get Ready for the Afternoon Session\n",
    "* 1300 - 1500 Session 2: [Code Organization](organization.ipynb)\n",
    "  * Function\n",
    "  * Conditional Statements\n",
    "  * Dictionary\n",
    "  * Loop\n",
    "  * Put Together the Song Player\n",
    "* 1500 - 1515 Break\n",
    "* 1515 - 1600 Follow-up Materials and Questions"
   ]
  },
  {
   "cell_type": "markdown",
   "metadata": {},
   "source": [
    "## Start Jupyter Notebook and Jupyter Lab\n",
    "\n",
    "* Open an existing Jupyter Notebook.\n",
    "* Create a new Jupyter Notebook.\n",
    "* Save the Notebook.\n",
    "* Browse Your Workspace."
   ]
  }
 ],
 "metadata": {
  "kernelspec": {
   "display_name": "Python 3",
   "language": "python",
   "name": "python3"
  },
  "language_info": {
   "codemirror_mode": {
    "name": "ipython",
    "version": 3
   },
   "file_extension": ".py",
   "mimetype": "text/x-python",
   "name": "python",
   "nbconvert_exporter": "python",
   "pygments_lexer": "ipython3",
   "version": "3.7.4+"
  }
 },
 "nbformat": 4,
 "nbformat_minor": 2
}
